{
 "cells": [
  {
   "cell_type": "markdown",
   "metadata": {},
   "source": [
    "# __Machine Learning__"
   ]
  },
  {
   "cell_type": "markdown",
   "metadata": {},
   "source": [
    "## __Scikit-Learn__"
   ]
  },
  {
   "cell_type": "markdown",
   "metadata": {
    "vscode": {
     "languageId": "plaintext"
    }
   },
   "source": [
    "Scikit-learn is a popular python library for machine learning, built on Numpy, Scipy and Matplotlib. It provides tools for __*supervised*__ and __*unsupervised*__ learning, as well as tools for data preprocessing, model selection, and evaluation."
   ]
  },
  {
   "cell_type": "markdown",
   "metadata": {},
   "source": [
    "## __Supervised Learning__"
   ]
  },
  {
   "cell_type": "markdown",
   "metadata": {},
   "source": [
    "### __Key Features of of Scikit-learn for Supervised Learning__\n",
    "\n",
    "- __Regression__: Predicts continous outcomes e.g. Food Price Prediction, House Price Prediction.\n",
    "    - __Algorithm__: Linear Regression.\n",
    "\n",
    "- __Classification__: Predicts discrete labels. e.g. Fake News Detection, Spam Detection.\n",
    "    - __Algorithm__: Logistic Regression."
   ]
  },
  {
   "cell_type": "markdown",
   "metadata": {},
   "source": [
    "### __*Coding Excercise*__"
   ]
  },
  {
   "cell_type": "code",
   "execution_count": null,
   "metadata": {
    "vscode": {
     "languageId": "plaintext"
    }
   },
   "outputs": [],
   "source": []
  },
  {
   "cell_type": "markdown",
   "metadata": {
    "vscode": {
     "languageId": "plaintext"
    }
   },
   "source": [
    "## __Unsupervised Learning__"
   ]
  },
  {
   "cell_type": "markdown",
   "metadata": {},
   "source": [
    "### __Key Features of of Scikit-learn for Supervised Learning__\n",
    "\n",
    "1. __Clustering__: Groups to similar data points.\n",
    "    - __Algorithm__: K-Means Clustering.\n",
    "\n",
    "2. __Dimensionality Reduction__: Reduces the number of features while retaining information.\n",
    "    - __Algorithm__: Principal Component Analysis (PCA)."
   ]
  },
  {
   "cell_type": "markdown",
   "metadata": {},
   "source": [
    "### __*Coding Excercise*__"
   ]
  },
  {
   "cell_type": "code",
   "execution_count": null,
   "metadata": {
    "vscode": {
     "languageId": "plaintext"
    }
   },
   "outputs": [],
   "source": []
  }
 ],
 "metadata": {
  "language_info": {
   "name": "python"
  }
 },
 "nbformat": 4,
 "nbformat_minor": 2
}
