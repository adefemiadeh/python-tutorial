{
 "cells": [
  {
   "cell_type": "markdown",
   "metadata": {},
   "source": [
    "# **INTRODUCTION TO PYTHON FOR DATA SCIENCE**\n",
    "\n",
    "__Compiled and curated by Adefemi O. Adeyanju__"
   ]
  },
  {
   "cell_type": "markdown",
   "metadata": {},
   "source": [
    "Python's popularity stems from its simplicity, versatility, and robustness. Here are some of its main features:\n",
    "\n",
    "- **Readable and Simple Syntax:** Python's syntax is designed to be easy to read and write, making it accessible to beginners and experienced programmers alike\n",
    "\n",
    "- **Extensive Standard Library:** Python comes with a large standard library that provides modules and packages for various tasks such as string manipulation, file I/O, networking,and more. \n",
    "\n",
    "- **Dynamic Typing and Dynamic Binding:** Python is\n",
    "dynamically typed, meaning you don't need to declare the type of variables. This allows for more flexibility and faster development cycles.\n",
    "\n",
    "__*Note:*__ Python starts counting from 0, not 1."
   ]
  },
  {
   "cell_type": "markdown",
   "metadata": {},
   "source": [
    "### **TOOLS NEEDED FOR THIS WORKSHOP**\n",
    "\n",
    "- **Python Compiler**  [python.org](www.python.org) \n",
    "- **VScode** (Install Extensions: Python, Python Debugger, Pylance, Jupyter Notebook, Errror Lens)\n",
    "- **Google Colab** (Online Code Editor)"
   ]
  },
  {
   "cell_type": "markdown",
   "metadata": {},
   "source": [
    "### **Hands-on Learning**"
   ]
  },
  {
   "cell_type": "markdown",
   "metadata": {},
   "source": [
    "##### Print Statement"
   ]
  },
  {
   "cell_type": "code",
   "execution_count": 40,
   "metadata": {},
   "outputs": [
    {
     "name": "stdout",
     "output_type": "stream",
     "text": [
      "This is a message\n"
     ]
    }
   ],
   "source": [
    "print('This is a message')"
   ]
  },
  {
   "cell_type": "markdown",
   "metadata": {
    "vscode": {
     "languageId": "plaintext"
    }
   },
   "source": [
    "##### **Comments in Python**"
   ]
  },
  {
   "cell_type": "markdown",
   "metadata": {},
   "source": [
    "In Python, you can write comments to document your code or provide\n",
    "explanations. Comments are ignored by the Python interpreter and are\n",
    "meant for human readers."
   ]
  },
  {
   "cell_type": "markdown",
   "metadata": {},
   "source": [
    "**Single-line comments:**"
   ]
  },
  {
   "cell_type": "code",
   "execution_count": 19,
   "metadata": {},
   "outputs": [
    {
     "name": "stdout",
     "output_type": "stream",
     "text": [
      "Hello, World!\n"
     ]
    }
   ],
   "source": [
    "# This is a single-line comment\n",
    "print(\"Hello, World!\")  # This is also a single-line commen"
   ]
  },
  {
   "cell_type": "markdown",
   "metadata": {},
   "source": [
    "**Multi-line comments**"
   ]
  },
  {
   "cell_type": "code",
   "execution_count": 20,
   "metadata": {},
   "outputs": [
    {
     "name": "stdout",
     "output_type": "stream",
     "text": [
      "Hello, World!\n",
      "Hello Again, World!\n"
     ]
    }
   ],
   "source": [
    "\"\"\"\n",
    "This is a multi-line comment.\n",
    "You can write multiple lines of text within triple quotes.\n",
    "This is often used as a docstring for documenting functions or modules.\n",
    "\"\"\"\n",
    "print(\"Hello, World!\")\n",
    "\n",
    "# Alternatively, you can use the # character to comment out multiple lines:\n",
    "\n",
    "# This is a comment\n",
    "print(\"Hello Again, World!\") # This is another comment\n",
    "\n",
    "# It's a common convention in Python to write clear and concise comments to explain your code, making it easier for others \n",
    "# (and your future self) to understand the purpose and functionality of the code."
   ]
  },
  {
   "cell_type": "markdown",
   "metadata": {},
   "source": [
    "##### **Python Variables**"
   ]
  },
  {
   "cell_type": "markdown",
   "metadata": {},
   "source": [
    "In Python, variables are used to store data values. A variable is a name that refers to a value stored in memory. Unlike some other programming languages, Python is dynamically typed, meaning you don't need to declare the type of a variable before assigning a value to it. Here's how you can use\n",
    "variables in Python:\n",
    "\n",
    "- **Variable Assignment:** You can assign a value to a variable using the `=` operator."
   ]
  },
  {
   "cell_type": "code",
   "execution_count": 21,
   "metadata": {},
   "outputs": [
    {
     "name": "stdout",
     "output_type": "stream",
     "text": [
      "10\n",
      "Alice\n"
     ]
    }
   ],
   "source": [
    "x = 10\n",
    "name = \"Alice\"\n",
    "\n",
    "print(x)\n",
    "print(name)"
   ]
  },
  {
   "cell_type": "markdown",
   "metadata": {},
   "source": [
    "**Variable Naming Rules:**\n",
    "\n",
    "- Variable names must start with a letter (a-z, A-Z) or an underscore _.\n",
    "- Variable names can contain letters, digits (0-9), and\n",
    "underscores _.\n",
    "- Variable names are case-sensitive (name and Name are different variables).\n",
    "- Python keywords (e.g., if, for, while, def, etc.) cannot be used as variable names."
   ]
  },
  {
   "cell_type": "markdown",
   "metadata": {},
   "source": [
    "**Data Types:**\n",
    " Python variables can hold values of different data types, including:\n",
    "\n",
    "- **Integer `int`:** Whole numbers, e.g., 10, -5, 1000.\n",
    "\n",
    "- **Float `float`:** Floating-point numbers, e.g., 3.14, 2.718.\n",
    "\n",
    "- **String `str`:** Sequence of characters, e.g., \"Hello\", 'Python'.\n",
    "\n",
    "- **Boolean `bool`:** Represents True or False.\n",
    "\n",
    "- **Tuple `( )`:** Once defined, you cannot change what is in it.\n",
    "\n",
    "- **List `[ ]`:** One of the most commom ways to store  a collection of data. Lists can be changedwhile the program is running.\n",
    "\n",
    "- **Dictionary `{ }:`** Each value is given an index or key you can define to help identify each piece of data.\n",
    "\n",
    "etc."
   ]
  },
  {
   "cell_type": "code",
   "execution_count": 22,
   "metadata": {},
   "outputs": [],
   "source": [
    "age = 25  # integer\n",
    "pi = 3.14  # float\n",
    "name = \"Alice\"  # string\n",
    "is_student = True  # boolean\n",
    "is_passed_exam = False  # boolean"
   ]
  },
  {
   "cell_type": "markdown",
   "metadata": {},
   "source": [
    "**Variable Reassignment:** You can change the value of a\n",
    "variable by assigning a new value to it."
   ]
  },
  {
   "cell_type": "code",
   "execution_count": 23,
   "metadata": {},
   "outputs": [],
   "source": [
    "x = 5\n",
    "x = x + 1  # x now holds the value 6"
   ]
  },
  {
   "cell_type": "markdown",
   "metadata": {},
   "source": [
    "**Strings**"
   ]
  },
  {
   "cell_type": "markdown",
   "metadata": {},
   "source": [
    "**f-strings** (Formatted String Literals): \n",
    "\n",
    "F-strings providea more concise and readable way to insert variables into\n",
    "strings. You can directly include variables and expressions within curly braces {} inside the string."
   ]
  },
  {
   "cell_type": "code",
   "execution_count": null,
   "metadata": {},
   "outputs": [],
   "source": [
    "name = \"Alice\"\n",
    "age = 30\n",
    "greeting = f\"Hello, {name}! You are {age} years old.\"\n",
    "print(greeting)"
   ]
  },
  {
   "cell_type": "markdown",
   "metadata": {},
   "source": [
    "**Escape**:\n",
    "\n",
    "Escape sequences in Python strings are special characters that are preceded\n",
    "by a backslash `\\`. These sequences allow you to include characters in strings\n",
    "that are difficult or impossible to type directly in source code. Here are\n",
    "some commonly used escape sequences in Python:"
   ]
  },
  {
   "cell_type": "code",
   "execution_count": 25,
   "metadata": {},
   "outputs": [
    {
     "name": "stdout",
     "output_type": "stream",
     "text": [
      "Line 1\n",
      "Line 2\n"
     ]
    }
   ],
   "source": [
    "#\\n: Newline character. It inserts a newline into the string.\n",
    "print(\"Line 1\\nLine 2\")"
   ]
  },
  {
   "cell_type": "markdown",
   "metadata": {},
   "source": [
    "**Integer**\n",
    "\n",
    "Creating integer numbers and performing simple calculations in Python is\n",
    "straightforward. You can define integer variables and use mathematical\n",
    "operators to perform calculations. "
   ]
  },
  {
   "cell_type": "code",
   "execution_count": 26,
   "metadata": {},
   "outputs": [
    {
     "name": "stdout",
     "output_type": "stream",
     "text": [
      "Sum: 8\n",
      "Difference: 2\n",
      "Product: 15\n",
      "Quotient: 1.6666666666666667\n",
      "Floor Division: 1\n",
      "Remainder: 2\n"
     ]
    }
   ],
   "source": [
    "#Here's an example:\n",
    "# Create integer variables\n",
    "x = 5\n",
    "y = 3\n",
    "\n",
    "# Perform arithmetic operations\n",
    "sum_result = x + y\n",
    "difference_result = x - y\n",
    "product_result = x * y\n",
    "quotient_result = x / y  # Division returns a float in Python 3.x\n",
    "floor_division_result = x // y  # Floor division returns an integer\n",
    "remainder_result = x % y  # Modulus operator returns the remainder\n",
    "\n",
    "# Print the results\n",
    "print(\"Sum:\", sum_result)\n",
    "print(\"Difference:\", difference_result)\n",
    "print(\"Product:\", product_result)\n",
    "print(\"Quotient:\", quotient_result)\n",
    "print(\"Floor Division:\", floor_division_result)\n",
    "print(\"Remainder:\", remainder_result)"
   ]
  },
  {
   "cell_type": "markdown",
   "metadata": {},
   "source": [
    "**Floats**\n",
    "\n",
    "Creating floating-point numbers and performing simple calculations in\n",
    "Python is similar to working with integer numbers. "
   ]
  },
  {
   "cell_type": "code",
   "execution_count": 28,
   "metadata": {},
   "outputs": [
    {
     "name": "stdout",
     "output_type": "stream",
     "text": [
      "Sum: 5.5\n",
      "Difference: 1.5\n",
      "Product: 7.0\n",
      "Quotient: 1.75\n"
     ]
    }
   ],
   "source": [
    "# Here's an example of creating floating-point variables and performing arithmetic operations:\n",
    "# Create floating-point variables\n",
    "x = 3.5\n",
    "y = 2.0\n",
    "\n",
    "# Perform arithmetic operations\n",
    "sum_result = x + y\n",
    "difference_result = x - y\n",
    "product_result = x * y\n",
    "quotient_result = x / y\n",
    "\n",
    "# Print the results\n",
    "print(\"Sum:\", sum_result)\n",
    "print(\"Difference:\", difference_result)\n",
    "print(\"Product:\", product_result)\n",
    "print(\"Quotient:\", quotient_result)"
   ]
  },
  {
   "cell_type": "markdown",
   "metadata": {},
   "source": [
    "**Int to string**\n",
    "\n",
    "To convert an integer to a string in Python, you can use the str() function. This can be useful in certain programming exercises"
   ]
  },
  {
   "cell_type": "code",
   "execution_count": null,
   "metadata": {},
   "outputs": [
    {
     "name": "stdout",
     "output_type": "stream",
     "text": [
      "123\n",
      "<class 'str'>\n"
     ]
    }
   ],
   "source": [
    "# Here's how you can do it:\n",
    "# Convert an integer to a string\n",
    "number = 123\n",
    "string_number = str(number)\n",
    "\n",
    "# Print the string representation\n",
    "print(string_number)\n",
    "print(type(string_number))"
   ]
  },
  {
   "cell_type": "markdown",
   "metadata": {},
   "source": [
    "**Int from string**\n",
    "\n",
    "To convert a string to an integer in Python, you can use the int() function.\n",
    "Here's how you can do it:"
   ]
  },
  {
   "cell_type": "code",
   "execution_count": null,
   "metadata": {},
   "outputs": [
    {
     "name": "stdout",
     "output_type": "stream",
     "text": [
      "123\n",
      "<class 'int'>\n"
     ]
    }
   ],
   "source": [
    "# Convert a string to an integer\n",
    "string_number = \"123\"\n",
    "number = int(string_number)\n",
    "\n",
    "# Print the integer value\n",
    "print(number)\n",
    "\n",
    "print(type(number))"
   ]
  },
  {
   "cell_type": "markdown",
   "metadata": {},
   "source": [
    "**Int to floating point**\n",
    "\n",
    "To convert integers to floating-point numbers in Python, you can simply use\n",
    "the float() function. "
   ]
  },
  {
   "cell_type": "code",
   "execution_count": null,
   "metadata": {},
   "outputs": [
    {
     "name": "stdout",
     "output_type": "stream",
     "text": [
      "123.0\n",
      "<class 'float'>\n"
     ]
    }
   ],
   "source": [
    "#Here's how you can do it:\n",
    "# Convert an integer to a floating-point number\n",
    "integer_number = 123\n",
    "float_number = float(integer_number)\n",
    "\n",
    "# Print the floating-point number\n",
    "print(float_number)\n",
    "\n",
    "print(type(float_number))"
   ]
  },
  {
   "cell_type": "markdown",
   "metadata": {},
   "source": [
    "### **1. Running your program**"
   ]
  },
  {
   "cell_type": "markdown",
   "metadata": {},
   "source": [
    "- **Numeric Values**\n",
    "\n",
    "    `num1 = 93` --> Variable Assignment\n",
    "\n",
    "    `answer = num1 + num2` --> Addition\n",
    "\n",
    "    `answer = num1 - num2` --> Substraction\n",
    "\n",
    "    `answer = num1 * num2 `--> Multiplication\n",
    "\n",
    "    `answer = num1 / num2` --> Division\n",
    "\n",
    "    `answer = num1 // num2` --> Whole Number Division\n",
    "\n",
    "    `answer = num1 % num2` --> Modulus/Remainder Division\n",
    "\n",
    "- **Print Statement**\n",
    "\n",
    "    `print('This is a message')` --> Print Statement\n",
    "\n",
    "    `print('First line\\nSecond line')` --> Line break\n",
    "\n",
    "    `print('The answer is', answer)` --> Displays Text and value stored in answer\n",
    "\n",
    "    `textValue = input('Enter a value: ')` --> Displays Question and stores user output in a variable called textValue\n",
    "\n",
    "    `numValue = int(input('Enter a number: '))`\n",
    "    \n",
    "    `numValue = float(input('Enter a number: '))`\n",
    "    \n",
    "    Displays Question and stores user output in a variable called textValue. Used for calculations.\n"
   ]
  },
  {
   "cell_type": "markdown",
   "metadata": {},
   "source": [
    "#### **2. Conditional Statements**"
   ]
  },
  {
   "cell_type": "markdown",
   "metadata": {},
   "source": [
    "##### **Comparison/Logical Operators**"
   ]
  },
  {
   "cell_type": "markdown",
   "metadata": {},
   "source": [
    "Comparison operators: \n",
    "\n",
    "- `==`: Equals To. (x == y returns `True` if x equals to y ) \n",
    "\n",
    "- `!=`: Not Equal to \n",
    "\n",
    "- `<`: Less than\n",
    "\n",
    "- `>`: Greater than\n",
    "\n",
    "- `<=`: Less than or Equals to\n",
    "\n",
    "- `>=`: Greater than or Equal to\n",
    "\n",
    "\n",
    "Logical Operators: \n",
    "\n",
    "- `and`: both conditions must be met\n",
    "\n",
    "- `or`: Either conditions must be met "
   ]
  },
  {
   "cell_type": "markdown",
   "metadata": {},
   "source": [
    "Conditional Statements: `if` `elif` `else`. \n",
    "In Python, the if statement is a control flow statement that allows you execute a block of code based on whether a specified condition evaluates to True. It is used for decision-making in programming."
   ]
  },
  {
   "cell_type": "code",
   "execution_count": null,
   "metadata": {},
   "outputs": [
    {
     "name": "stdout",
     "output_type": "stream",
     "text": [
      "x is greater than 5\n"
     ]
    }
   ],
   "source": [
    "# Basic if Statement\n",
    "#  \n",
    "x = 10\n",
    "if x > 5:\n",
    "    print(\"x is greater than 5\")"
   ]
  },
  {
   "cell_type": "code",
   "execution_count": null,
   "metadata": {},
   "outputs": [
    {
     "name": "stdout",
     "output_type": "stream",
     "text": [
      "The person is a student.\n"
     ]
    }
   ],
   "source": [
    "# if-else statement\n",
    "\n",
    "is_student = True\n",
    "if is_student:\n",
    "    print(\"The person is a student.\")\n",
    "else:\n",
    "    print(\"The person is not a student.\")"
   ]
  },
  {
   "cell_type": "code",
   "execution_count": 3,
   "metadata": {},
   "outputs": [
    {
     "name": "stdout",
     "output_type": "stream",
     "text": [
      "Equals to or greater than 5\n"
     ]
    }
   ],
   "source": [
    "# Chained if-elif-else statement\n",
    "age = 5\n",
    "\n",
    "if age <= 4:\n",
    "    print('Less than 10')\n",
    "elif age >= 5:\n",
    "    print('Equals to or greater than 5')\n",
    "else:\n",
    "    print('Nothing')"
   ]
  },
  {
   "cell_type": "code",
   "execution_count": 9,
   "metadata": {},
   "outputs": [
    {
     "name": "stdout",
     "output_type": "stream",
     "text": [
      "a equals to b\n",
      "b equals to c\n"
     ]
    }
   ],
   "source": [
    "# Nested if statement:\n",
    "# Conditions must be True\n",
    "a = 1\n",
    "b = 1\n",
    "c = 1\n",
    "if a == b:\n",
    "    if b == c:\n",
    "        print('a equals to b')\n",
    "        print('b equals to c')\n",
    "       "
   ]
  },
  {
   "cell_type": "markdown",
   "metadata": {},
   "source": [
    "###### **Example Code**"
   ]
  },
  {
   "cell_type": "code",
   "execution_count": 8,
   "metadata": {},
   "outputs": [
    {
     "name": "stdout",
     "output_type": "stream",
     "text": [
      "THIS IS NOT OVER 10\n"
     ]
    }
   ],
   "source": [
    "num = 5\n",
    "if num > 10:\n",
    "    print('THIS IS OVER 10')\n",
    "else:\n",
    "    print('THIS IS NOT OVER 10')"
   ]
  },
  {
   "cell_type": "code",
   "execution_count": 10,
   "metadata": {},
   "outputs": [
    {
     "name": "stdout",
     "output_type": "stream",
     "text": [
      "This is under 10\n"
     ]
    }
   ],
   "source": [
    "if num > 10:\n",
    "    print('This is over 10')\n",
    "elif num == 10:\n",
    "    print('This is equal to 10')\n",
    "else:\n",
    "    print('This is under 10')"
   ]
  },
  {
   "cell_type": "code",
   "execution_count": null,
   "metadata": {},
   "outputs": [
    {
     "name": "stdout",
     "output_type": "stream",
     "text": [
      "This is between 10 and 20\n"
     ]
    }
   ],
   "source": [
    "num = 15\n",
    "\n",
    "if num >= 10:\n",
    "    if num <= 20:\n",
    "        print('This is between 10 and 20')\n",
    "    else:\n",
    "        print('This is over 20')\n",
    "else:\n",
    "    print('This is under 10')"
   ]
  },
  {
   "cell_type": "code",
   "execution_count": 5,
   "metadata": {},
   "outputs": [
    {
     "name": "stdout",
     "output_type": "stream",
     "text": [
      "Out of Range\n"
     ]
    }
   ],
   "source": [
    "num = int(input('Enter a number between 10 and 20: '))\n",
    "\n",
    "if num >= 10 and num <=20:\n",
    "    print('Thank you')\n",
    "else:\n",
    "    print('Out of Range')"
   ]
  },
  {
   "cell_type": "code",
   "execution_count": 6,
   "metadata": {},
   "outputs": [
    {
     "name": "stdout",
     "output_type": "stream",
     "text": [
      "Incorrect\n"
     ]
    }
   ],
   "source": [
    "num = int(input('Enter an even number between 1 and 5: '))\n",
    "\n",
    "if num == 2 or num == 4:\n",
    "    print('Thank You')\n",
    "else:\n",
    "    print('Incorrect')"
   ]
  },
  {
   "cell_type": "markdown",
   "metadata": {},
   "source": [
    "##### **Strings**\n",
    "\n",
    "This is the technical name of texts in python"
   ]
  },
  {
   "cell_type": "markdown",
   "metadata": {},
   "source": [
    "###### **Example Code**"
   ]
  },
  {
   "cell_type": "code",
   "execution_count": 7,
   "metadata": {},
   "outputs": [
    {
     "name": "stdout",
     "output_type": "stream",
     "text": [
      "\n",
      "1, Prince Avenue\n",
      "Banana Island\n",
      "Lagos\n",
      "\n"
     ]
    }
   ],
   "source": [
    "# Multiple line strings\n",
    "address = \"\"\"\n",
    "1, Prince Avenue\n",
    "Banana Island\n",
    "Lagos\n",
    "\"\"\"\n",
    "\n",
    "print(address)"
   ]
  },
  {
   "cell_type": "code",
   "execution_count": 14,
   "metadata": {},
   "outputs": [
    {
     "data": {
      "text/plain": [
       "23"
      ]
     },
     "execution_count": 14,
     "metadata": {},
     "output_type": "execute_result"
    }
   ],
   "source": [
    "# Find length of a variable called word\n",
    "word = 'Jollof Rice and Chicken'\n",
    "len(word)"
   ]
  },
  {
   "cell_type": "code",
   "execution_count": 15,
   "metadata": {},
   "outputs": [
    {
     "data": {
      "text/plain": [
       "'JOLLOF RICE AND CHICKEN'"
      ]
     },
     "execution_count": 15,
     "metadata": {},
     "output_type": "execute_result"
    }
   ],
   "source": [
    "# Change string to uppercase\n",
    "word.upper()"
   ]
  },
  {
   "cell_type": "code",
   "execution_count": 16,
   "metadata": {},
   "outputs": [
    {
     "name": "stdout",
     "output_type": "stream",
     "text": [
      "Jollof rice and chicken\n"
     ]
    }
   ],
   "source": [
    "# Capitalize only the first word\n",
    "print(word.capitalize())"
   ]
  },
  {
   "cell_type": "code",
   "execution_count": 17,
   "metadata": {},
   "outputs": [
    {
     "data": {
      "text/plain": [
       "'Jollof Rice And Chicken'"
      ]
     },
     "execution_count": 17,
     "metadata": {},
     "output_type": "execute_result"
    }
   ],
   "source": [
    "# Change string to camelcase\n",
    "word.title()"
   ]
  },
  {
   "cell_type": "code",
   "execution_count": 19,
   "metadata": {},
   "outputs": [
    {
     "name": "stdout",
     "output_type": "stream",
     "text": [
      "JohnJones\n"
     ]
    }
   ],
   "source": [
    "# Join Strings together (Concatenation)\n",
    "\n",
    "first_name = 'John'\n",
    "surname = 'Jones'\n",
    "name = first_name + surname\n",
    "\n",
    "print(name)"
   ]
  },
  {
   "cell_type": "code",
   "execution_count": null,
   "metadata": {},
   "outputs": [],
   "source": [
    "# Removes specified extra characters\n",
    "text = ' This is some text. '\n",
    "\n",
    "print(text.strip(' '))"
   ]
  },
  {
   "cell_type": "code",
   "execution_count": 20,
   "metadata": {},
   "outputs": [
    {
     "name": "stdout",
     "output_type": "stream",
     "text": [
      "orl\n"
     ]
    }
   ],
   "source": [
    "print('Hello World'[7:10])"
   ]
  },
  {
   "cell_type": "markdown",
   "metadata": {},
   "source": [
    "##### **Math**\n",
    "\n",
    "Python can perform several mathematical functions\n",
    "\n",
    "In order to use some of these mathematical functions, import the `math` library"
   ]
  },
  {
   "cell_type": "markdown",
   "metadata": {},
   "source": [
    "###### **Example Code**"
   ]
  },
  {
   "cell_type": "code",
   "execution_count": 22,
   "metadata": {},
   "outputs": [],
   "source": [
    "# Impoting math library\n",
    "import math"
   ]
  },
  {
   "cell_type": "code",
   "execution_count": 24,
   "metadata": {},
   "outputs": [
    {
     "name": "stdout",
     "output_type": "stream",
     "text": [
      "11.313708498984761\n"
     ]
    }
   ],
   "source": [
    "# ** means rasing to the power\n",
    "\n",
    "num = 2 ** 3.5\n",
    "\n",
    "print(num)"
   ]
  },
  {
   "cell_type": "code",
   "execution_count": 25,
   "metadata": {},
   "outputs": [
    {
     "name": "stdout",
     "output_type": "stream",
     "text": [
      "11.31\n"
     ]
    }
   ],
   "source": [
    "print(round(num,2))"
   ]
  },
  {
   "cell_type": "code",
   "execution_count": 26,
   "metadata": {},
   "outputs": [
    {
     "data": {
      "text/plain": [
       "3.3635856610148585"
      ]
     },
     "execution_count": 26,
     "metadata": {},
     "output_type": "execute_result"
    }
   ],
   "source": [
    "# Square root\n",
    "math.sqrt(num)"
   ]
  },
  {
   "cell_type": "code",
   "execution_count": 28,
   "metadata": {},
   "outputs": [
    {
     "name": "stdout",
     "output_type": "stream",
     "text": [
      "20.0\n"
     ]
    }
   ],
   "source": [
    "# Allows number with decimal point dividing the integer and fraction part\n",
    "newNum = float(input('Enter a number: '))\n",
    "print(newNum)"
   ]
  },
  {
   "cell_type": "code",
   "execution_count": 29,
   "metadata": {},
   "outputs": [
    {
     "data": {
      "text/plain": [
       "3.141592653589793"
      ]
     },
     "execution_count": 29,
     "metadata": {},
     "output_type": "execute_result"
    }
   ],
   "source": [
    "# Gives pi value to 15 decimal places\n",
    "math.pi"
   ]
  },
  {
   "cell_type": "code",
   "execution_count": 30,
   "metadata": {},
   "outputs": [],
   "source": [
    "x = 10\n",
    "y = 3"
   ]
  },
  {
   "cell_type": "code",
   "execution_count": null,
   "metadata": {},
   "outputs": [
    {
     "data": {
      "text/plain": [
       "3"
      ]
     },
     "execution_count": 31,
     "metadata": {},
     "output_type": "execute_result"
    }
   ],
   "source": [
    "# Whole Number Division\n",
    "x // y"
   ]
  },
  {
   "cell_type": "code",
   "execution_count": null,
   "metadata": {},
   "outputs": [
    {
     "data": {
      "text/plain": [
       "1"
      ]
     },
     "execution_count": 32,
     "metadata": {},
     "output_type": "execute_result"
    }
   ],
   "source": [
    "# Remainder Division\n",
    "x % y"
   ]
  },
  {
   "cell_type": "markdown",
   "metadata": {},
   "source": [
    "##### **For Loop**\n",
    "\n",
    "A **for loop** allows python to keep repeating code a set number of times.\n",
    "It's sometimes known as the counting loop because you know the number of times the loop will run before it starts."
   ]
  },
  {
   "cell_type": "markdown",
   "metadata": {},
   "source": [
    "###### **Example Code**"
   ]
  },
  {
   "cell_type": "code",
   "execution_count": 33,
   "metadata": {},
   "outputs": [
    {
     "name": "stdout",
     "output_type": "stream",
     "text": [
      "1\n",
      "2\n",
      "3\n",
      "4\n",
      "5\n",
      "6\n",
      "7\n",
      "8\n",
      "9\n"
     ]
    }
   ],
   "source": [
    "# A for loop to count between 1 and 10\n",
    "for i in range(1,10):\n",
    "    print(i)"
   ]
  },
  {
   "cell_type": "code",
   "execution_count": null,
   "metadata": {},
   "outputs": [
    {
     "name": "stdout",
     "output_type": "stream",
     "text": [
      "1\n",
      "3\n",
      "5\n",
      "7\n",
      "9\n"
     ]
    }
   ],
   "source": [
    "# A for loop to count between 1 and 10 with a third value which shows how much is added to i in the loop\n",
    "\n",
    "for i in range(1,10,2):\n",
    "    print(i)"
   ]
  },
  {
   "cell_type": "code",
   "execution_count": null,
   "metadata": {},
   "outputs": [
    {
     "name": "stdout",
     "output_type": "stream",
     "text": [
      "10\n",
      "7\n",
      "4\n"
     ]
    }
   ],
   "source": [
    "# A for loop to count between 1 and 10 with a third value which shows how much is added to i in the loop\n",
    "\n",
    "for i in range(10,1,-3):\n",
    "    print(i)"
   ]
  },
  {
   "cell_type": "code",
   "execution_count": 40,
   "metadata": {},
   "outputs": [
    {
     "name": "stdout",
     "output_type": "stream",
     "text": [
      "H\n",
      "e\n",
      "l\n",
      "l\n",
      "o\n",
      " \n",
      "W\n",
      "o\n",
      "r\n",
      "l\n",
      "d\n"
     ]
    }
   ],
   "source": [
    "words = 'Hello World'\n",
    "\n",
    "for i in words:\n",
    "    print(i)"
   ]
  },
  {
   "cell_type": "markdown",
   "metadata": {},
   "source": [
    "#### **While Loop**\n",
    "\n",
    "A **while loop** allows code to be repeated an unknown amount of times as long as the condition is being met. This may be up to 100 times."
   ]
  },
  {
   "cell_type": "markdown",
   "metadata": {},
   "source": [
    "###### **Example Code**"
   ]
  },
  {
   "cell_type": "code",
   "execution_count": null,
   "metadata": {},
   "outputs": [
    {
     "name": "stdout",
     "output_type": "stream",
     "text": [
      "Hello\n",
      "Hello\n",
      "Hello\n",
      "Hello\n"
     ]
    }
   ],
   "source": [
    "# A simple example of how a while-loop works\n",
    "\n",
    "again = 'yes'\n",
    "\n",
    "while again == 'yes':\n",
    "    print('Hello')\n",
    "    again = input('Do you want to loop again: ')"
   ]
  },
  {
   "cell_type": "code",
   "execution_count": 43,
   "metadata": {},
   "outputs": [
    {
     "name": "stdout",
     "output_type": "stream",
     "text": [
      "This is 10\n",
      "This is 60\n",
      "This is 110\n"
     ]
    }
   ],
   "source": [
    "# A simple example of how a while-loop works\n",
    "\n",
    "total = 0\n",
    "\n",
    "while total < 100:\n",
    "    num = int(input('Enter a number: '))\n",
    "    total = total + num\n",
    "    print('This is', total)"
   ]
  },
  {
   "cell_type": "markdown",
   "metadata": {},
   "source": [
    "#### **Random**\n",
    "\n",
    "Python can generate **random values**. To use this, we will have to import the random library"
   ]
  },
  {
   "cell_type": "markdown",
   "metadata": {},
   "source": [
    "###### **Example Code**"
   ]
  },
  {
   "cell_type": "code",
   "execution_count": 45,
   "metadata": {},
   "outputs": [],
   "source": [
    "import random"
   ]
  },
  {
   "cell_type": "code",
   "execution_count": 47,
   "metadata": {},
   "outputs": [
    {
     "name": "stdout",
     "output_type": "stream",
     "text": [
      "0.25863197324234954\n",
      "25.863197324234953\n"
     ]
    }
   ],
   "source": [
    "num = random.random() # Select a random floating point number between 0 and 1\n",
    "print(num)\n",
    "num = num * 100\n",
    "print(num)"
   ]
  },
  {
   "cell_type": "code",
   "execution_count": 48,
   "metadata": {},
   "outputs": [
    {
     "name": "stdout",
     "output_type": "stream",
     "text": [
      "4\n"
     ]
    }
   ],
   "source": [
    "num = random.randint(0,9) # Select a random whole nuber between 0 and 9\n",
    "print(num)"
   ]
  },
  {
   "cell_type": "code",
   "execution_count": 49,
   "metadata": {},
   "outputs": [
    {
     "name": "stdout",
     "output_type": "stream",
     "text": [
      "795\n",
      "859\n",
      "0.9254947613504074\n"
     ]
    }
   ],
   "source": [
    "num1 = random.randint(0,1000) # Select a random whole nuber between 0 and 1000\n",
    "num2 = random.randint(0,1000)\n",
    "\n",
    "print(num1)\n",
    "print(num2)\n",
    "\n",
    "newrand = num1/num2\n",
    "print(newrand)"
   ]
  },
  {
   "cell_type": "code",
   "execution_count": 50,
   "metadata": {},
   "outputs": [
    {
     "name": "stdout",
     "output_type": "stream",
     "text": [
      "55\n"
     ]
    }
   ],
   "source": [
    "num = random.randrange(0,100,5) # Picks a random number between 0 and 100(inclusive) in steps of 5\n",
    "print(num)"
   ]
  },
  {
   "cell_type": "code",
   "execution_count": null,
   "metadata": {},
   "outputs": [
    {
     "name": "stdout",
     "output_type": "stream",
     "text": [
      "green\n"
     ]
    }
   ],
   "source": [
    "colour = random.choice(['red', 'black', 'green']) #  Picks a random value from some options\n",
    "\n",
    "print(colour)"
   ]
  },
  {
   "cell_type": "markdown",
   "metadata": {},
   "source": [
    "#### __*Tuples, Lists and Dictionaries*__\n",
    "\n",
    "- **Tuple `( )`:** Once defined, you cannot change what is in it.\n",
    "\n",
    "- **List `[ ]`:** One of the most commom ways to store  a collection of data. Lists can be changedwhile the program is running.\n",
    "\n",
    "- **Dictionary `{ }:`** Each value is given an index or key you can define to help identify each piece of data."
   ]
  },
  {
   "cell_type": "markdown",
   "metadata": {},
   "source": [
    "###### **Example Code**"
   ]
  },
  {
   "cell_type": "code",
   "execution_count": null,
   "metadata": {},
   "outputs": [
    {
     "name": "stdout",
     "output_type": "stream",
     "text": [
      "('apple', 'banana', 'strawberry', 'orange')\n"
     ]
    }
   ],
   "source": [
    "fruit_tuple = ('apple', 'banana', 'strawberry', 'orange') # Storage with tuples\n",
    "print(fruit_tuple)"
   ]
  },
  {
   "cell_type": "code",
   "execution_count": null,
   "metadata": {},
   "outputs": [
    {
     "name": "stdout",
     "output_type": "stream",
     "text": [
      "2\n"
     ]
    }
   ],
   "source": [
    "print(fruit_tuple.index('strawberry')) # Prints the position of the item strawberry"
   ]
  },
  {
   "cell_type": "code",
   "execution_count": 55,
   "metadata": {},
   "outputs": [
    {
     "name": "stdout",
     "output_type": "stream",
     "text": [
      "strawberry\n"
     ]
    }
   ],
   "source": [
    "print(fruit_tuple[2]) # Displays item 2 from fruit_tuple"
   ]
  },
  {
   "cell_type": "code",
   "execution_count": 57,
   "metadata": {},
   "outputs": [
    {
     "name": "stdout",
     "output_type": "stream",
     "text": [
      "['John', 'Tim', 'Sam']\n"
     ]
    }
   ],
   "source": [
    "names_list = ['John', 'Tim', 'Sam'] # Creates a list of names that can be altered while the program is running\n",
    "print(names_list)"
   ]
  },
  {
   "cell_type": "code",
   "execution_count": 58,
   "metadata": {},
   "outputs": [],
   "source": [
    "# Deletes the item 1 from the name_list\n",
    "# del names_list[1]"
   ]
  },
  {
   "cell_type": "code",
   "execution_count": null,
   "metadata": {},
   "outputs": [],
   "source": [
    "# Ask the user to enter a name and will add that to the end of names_list\n",
    "\n",
    "# names_list.append(input('Add a name: ))"
   ]
  },
  {
   "cell_type": "code",
   "execution_count": null,
   "metadata": {},
   "outputs": [],
   "source": [
    "# Sorts names_list into aplphabetical order and saves the list in the new order\n",
    "#names_list.sort()"
   ]
  },
  {
   "cell_type": "code",
   "execution_count": 61,
   "metadata": {},
   "outputs": [],
   "source": [
    "# Displays names_lists in alphabetical order but does not change the original list\n",
    "# print(sorted(names_list))"
   ]
  },
  {
   "cell_type": "code",
   "execution_count": 62,
   "metadata": {},
   "outputs": [
    {
     "name": "stdout",
     "output_type": "stream",
     "text": [
      "{1: 'red', 2: 'blue', 3: 'green'}\n"
     ]
    }
   ],
   "source": [
    "# Creates a dictionary called colours\n",
    "\n",
    "colours = {1:'red', 2:'blue',3:'green'}\n",
    "print(colours)"
   ]
  },
  {
   "cell_type": "code",
   "execution_count": 63,
   "metadata": {},
   "outputs": [
    {
     "name": "stdout",
     "output_type": "stream",
     "text": [
      "{1: 'red', 2: 'yellow', 3: 'green'}\n"
     ]
    }
   ],
   "source": [
    "# Make a cahnge in the dictionary\n",
    "colours[2] = 'yellow'\n",
    "\n",
    "print(colours)"
   ]
  },
  {
   "cell_type": "markdown",
   "metadata": {},
   "source": [
    "###### More examples for lists"
   ]
  },
  {
   "cell_type": "code",
   "execution_count": 64,
   "metadata": {},
   "outputs": [],
   "source": [
    "x = [154,634,892,345,341,43] # Numeric data in lists"
   ]
  },
  {
   "cell_type": "code",
   "execution_count": 65,
   "metadata": {},
   "outputs": [
    {
     "name": "stdout",
     "output_type": "stream",
     "text": [
      "6\n"
     ]
    }
   ],
   "source": [
    "# Print length of x\n",
    "print(len(x))"
   ]
  },
  {
   "cell_type": "code",
   "execution_count": null,
   "metadata": {},
   "outputs": [
    {
     "name": "stdout",
     "output_type": "stream",
     "text": [
      "[634, 892, 345]\n"
     ]
    }
   ],
   "source": [
    "print(x[1:4]) # Displays numbers beween 1 and 4"
   ]
  },
  {
   "cell_type": "code",
   "execution_count": 67,
   "metadata": {},
   "outputs": [
    {
     "name": "stdout",
     "output_type": "stream",
     "text": [
      "154\n",
      "634\n",
      "892\n",
      "345\n",
      "341\n",
      "43\n"
     ]
    }
   ],
   "source": [
    "for i in x:\n",
    "    print(i)"
   ]
  },
  {
   "cell_type": "code",
   "execution_count": 68,
   "metadata": {},
   "outputs": [
    {
     "name": "stdout",
     "output_type": "stream",
     "text": [
      "Not in the list\n"
     ]
    }
   ],
   "source": [
    "# Ask the user to enter a number and checks whether the number is in the list\n",
    "\n",
    "num = int(input('Enter a number: '))\n",
    "\n",
    "if num in x:\n",
    "    print(num, 'is in the list')\n",
    "else:\n",
    "    print('Not in the list')"
   ]
  },
  {
   "cell_type": "code",
   "execution_count": 73,
   "metadata": {},
   "outputs": [
    {
     "name": "stdout",
     "output_type": "stream",
     "text": [
      "[154, 634, 420, 892, 345, 341, 43]\n"
     ]
    }
   ],
   "source": [
    "#  insert value to a specific position\n",
    "\n",
    "x.insert(2,420)\n",
    "print(x)"
   ]
  },
  {
   "cell_type": "code",
   "execution_count": 74,
   "metadata": {},
   "outputs": [
    {
     "name": "stdout",
     "output_type": "stream",
     "text": [
      "[154, 634, 892, 345, 341, 43]\n"
     ]
    }
   ],
   "source": [
    "# Delete an item from the list\n",
    "\n",
    "x.remove(420)\n",
    "print(x)"
   ]
  },
  {
   "cell_type": "code",
   "execution_count": 79,
   "metadata": {},
   "outputs": [
    {
     "name": "stdout",
     "output_type": "stream",
     "text": [
      "[154, 634, 892, 345, 341, 43, 200]\n"
     ]
    }
   ],
   "source": [
    "x.append(200) # Adds 200 to the ends of the list\n",
    "print(x)"
   ]
  },
  {
   "cell_type": "markdown",
   "metadata": {},
   "source": [
    "###### More string Manipulation"
   ]
  },
  {
   "cell_type": "code",
   "execution_count": 80,
   "metadata": {},
   "outputs": [
    {
     "name": "stdout",
     "output_type": "stream",
     "text": [
      "This is not in lowercase\n"
     ]
    }
   ],
   "source": [
    "msg = 'Hello'\n",
    "\n",
    "if msg.islower():\n",
    "    print('Lowercase')\n",
    "else:\n",
    "    print('This is not in lowercase')"
   ]
  },
  {
   "cell_type": "markdown",
   "metadata": {},
   "source": [
    "##### __*Reading and Writing to a Text File*__"
   ]
  },
  {
   "cell_type": "markdown",
   "metadata": {},
   "source": [
    "- `w` : Write Mode\n",
    "- `r` : Read Mode\n",
    "- `a` : Append Mode"
   ]
  },
  {
   "cell_type": "code",
   "execution_count": null,
   "metadata": {},
   "outputs": [],
   "source": [
    "# Write to a txt file\n",
    "\n",
    "# file = open('countries.txt', 'w')\n",
    "# file.write('Italy\\n')\n",
    "# file.write('Germany\\n')\n",
    "# file.write('Spain\\n')\n",
    "# file.close\n"
   ]
  },
  {
   "cell_type": "code",
   "execution_count": 83,
   "metadata": {},
   "outputs": [],
   "source": [
    "# Read a txt file\n",
    "\n",
    "# file = open('countries.txt', 'r')\n",
    "# print(file.read())"
   ]
  },
  {
   "cell_type": "code",
   "execution_count": 84,
   "metadata": {},
   "outputs": [],
   "source": [
    "# Append to a txt file\n",
    "\n",
    "# file = open('countries.txt', 'a')\n",
    "# file.write('France\\n')\n",
    "# file.close()"
   ]
  },
  {
   "cell_type": "markdown",
   "metadata": {},
   "source": [
    "##### __*Subprograms(Functions)*__\n",
    "\n",
    "These are blocks of code which perform specific tasks and can be called upon at any time in the program to run that code. It prevents code repeats."
   ]
  },
  {
   "cell_type": "code",
   "execution_count": 88,
   "metadata": {},
   "outputs": [
    {
     "name": "stdout",
     "output_type": "stream",
     "text": [
      "Hello Ade\n"
     ]
    }
   ],
   "source": [
    "# Example\n",
    "\n",
    "def get_name():\n",
    "    user_name = input('Enter your name: ')\n",
    "    return user_name\n",
    "\n",
    "def print_msg(user_name):\n",
    "    print('Hello', user_name)\n",
    "\n",
    "def main():\n",
    "    user_name = get_name()\n",
    "    print_msg(user_name)\n",
    "\n",
    "main()"
   ]
  },
  {
   "cell_type": "markdown",
   "metadata": {},
   "source": [
    "###### Code Explanation"
   ]
  },
  {
   "cell_type": "markdown",
   "metadata": {},
   "source": [
    "The `get_name` function will ask the user to input their name then return the variable assigned\n",
    "\n",
    "The `print_msg` function will display the message 'Hello' and the user_name.\n",
    "\n",
    "The `main` function will get the user_name from `get_name()` then use the user_name variable in the `print_msg`"
   ]
  },
  {
   "cell_type": "markdown",
   "metadata": {},
   "source": [
    "###### Example Code"
   ]
  },
  {
   "cell_type": "code",
   "execution_count": null,
   "metadata": {},
   "outputs": [
    {
     "name": "stdout",
     "output_type": "stream",
     "text": [
      "Hello Ade\n"
     ]
    }
   ],
   "source": [
    "def get_data():\n",
    "    user_name = input('Enter your name: ')\n",
    "    user_age = int(input('Enter your age: '))\n",
    "    data = (user_name,user_age)\n",
    "    return data\n",
    "\n",
    "def message(user_name,user_age):\n",
    "    if user_age <= 10:\n",
    "        print('Hi', user_name)\n",
    "    else:\n",
    "        print('Hello', user_name)\n",
    "\n",
    "def main():\n",
    "    user_name,user_age = get_data()\n",
    "    message(user_name,user_age)\n",
    "\n",
    "\n",
    "main()"
   ]
  },
  {
   "cell_type": "code",
   "execution_count": null,
   "metadata": {},
   "outputs": [],
   "source": []
  }
 ],
 "metadata": {
  "kernelspec": {
   "display_name": "Python 3",
   "language": "python",
   "name": "python3"
  },
  "language_info": {
   "codemirror_mode": {
    "name": "ipython",
    "version": 3
   },
   "file_extension": ".py",
   "mimetype": "text/x-python",
   "name": "python",
   "nbconvert_exporter": "python",
   "pygments_lexer": "ipython3",
   "version": "3.12.2"
  }
 },
 "nbformat": 4,
 "nbformat_minor": 2
}
