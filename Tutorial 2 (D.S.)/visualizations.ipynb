{
 "cells": [
  {
   "cell_type": "markdown",
   "metadata": {},
   "source": [
    "# __Matplotlib__"
   ]
  },
  {
   "cell_type": "markdown",
   "metadata": {},
   "source": [
    "This is a python library used for making static, interactive, and animated visualizations"
   ]
  },
  {
   "cell_type": "markdown",
   "metadata": {
    "vscode": {
     "languageId": "plaintext"
    }
   },
   "source": [
    "### __Key Features of Matplotlib__\n",
    "\n",
    "1. __Customizable plots__:\n",
    "    - Fine control over plot appearance (colours, labels, line styles, etc.)\n",
    "\n",
    "2. __Plot Types__:\n",
    "    - Line plots, scatter plots, bar charts, histograms, pie charts, and more.\n",
    "\n",
    "3. __Integration__:\n",
    "    - Works well with other python libraries like Numpy, Pandas, and Seaborn."
   ]
  },
  {
   "cell_type": "markdown",
   "metadata": {
    "vscode": {
     "languageId": "plaintext"
    }
   },
   "source": [
    "### __*Coding Excercise*__"
   ]
  },
  {
   "cell_type": "code",
   "execution_count": null,
   "metadata": {
    "vscode": {
     "languageId": "plaintext"
    }
   },
   "outputs": [],
   "source": []
  },
  {
   "cell_type": "code",
   "execution_count": null,
   "metadata": {
    "vscode": {
     "languageId": "plaintext"
    }
   },
   "outputs": [],
   "source": []
  },
  {
   "cell_type": "markdown",
   "metadata": {},
   "source": [
    "# __Seaborn__"
   ]
  },
  {
   "cell_type": "markdown",
   "metadata": {},
   "source": [
    "Seaborn is a python data visualization library built on top of matplotlib. It is designed to simplify the creation of visually appleaing and informative statistical graphics."
   ]
  },
  {
   "cell_type": "markdown",
   "metadata": {},
   "source": [
    "### __Key Features of Seaborn__\n",
    "\n",
    "1. __High-level Interface__:\n",
    "    - Simplifies complex visualizations with concise, intuitive code.\n",
    "\n",
    "2. __Statistical Visualization__:\n",
    "    - Automatically computes and plots statistical aggregates.\n",
    "\n",
    "3. __Customization__:\n",
    "    - Offers themes and colour palettes for aesthetic control.\n",
    "\n",
    "4. __Integration__:\n",
    "    - Works with Matplotlib for fine-tuning and Pandas for data handling."
   ]
  },
  {
   "cell_type": "markdown",
   "metadata": {},
   "source": [
    "### __*Coding Excercise*__"
   ]
  },
  {
   "cell_type": "code",
   "execution_count": null,
   "metadata": {
    "vscode": {
     "languageId": "plaintext"
    }
   },
   "outputs": [],
   "source": []
  }
 ],
 "metadata": {
  "language_info": {
   "name": "python"
  }
 },
 "nbformat": 4,
 "nbformat_minor": 2
}
