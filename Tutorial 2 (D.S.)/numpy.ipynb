{
 "cells": [
  {
   "cell_type": "markdown",
   "metadata": {},
   "source": [
    "# __Numpy__"
   ]
  },
  {
   "cell_type": "markdown",
   "metadata": {},
   "source": [
    "Numpy(Numerical Python) is an open source python library that's widely used in science and engineering for numerical computing. It provides support for large, multi-dimensional arrays and matrices, along with a wide collection of mathematical functions to perform efficient operations on these data structures."
   ]
  },
  {
   "cell_type": "markdown",
   "metadata": {},
   "source": [
    "### __Key Features of Numpy__"
   ]
  },
  {
   "cell_type": "markdown",
   "metadata": {},
   "source": [
    "1. `Arrays`: A structure for storing and retrieving data\n",
    "    - Provides the ndarray object, a fast, flexible, and efficient way to store and manipulate large datasets.\n",
    "    - Supports Multi-dimensional arrays (1D, 2D, 3D etc.)\n",
    "\n",
    "2. `Mathematical Operations`:\n",
    "    - Includes functions for basic arithmetic, statistics, linear algebra, etc.\n",
    "\n",
    "3. `Broadcasting`:\n",
    "    - Facilitates element-wise operations on arrays with different shapes.\n",
    "\n",
    "4. `Indexing and Slicing`:\n",
    "    - Offers advanced methods for accessing, modifying, and reshaping data within arrays\n",
    "\n",
    "5. `Integration with Other Libraries`:\n",
    "    - Works seamlessly well with other libraries like Pandas, Matplotlib and Scikit-learn.\n",
    "\n",
    "6. `Performance`:\n",
    "    - Optimized for speed and efficient memory usage compared to python's native list"
   ]
  },
  {
   "cell_type": "markdown",
   "metadata": {},
   "source": [
    "## __Hands-on Learning__"
   ]
  },
  {
   "cell_type": "code",
   "execution_count": 7,
   "metadata": {},
   "outputs": [],
   "source": [
    "# import Numpy library\n",
    "import numpy as np"
   ]
  },
  {
   "cell_type": "markdown",
   "metadata": {},
   "source": [
    "#### __Array__"
   ]
  },
  {
   "cell_type": "code",
   "execution_count": null,
   "metadata": {},
   "outputs": [],
   "source": []
  },
  {
   "cell_type": "markdown",
   "metadata": {},
   "source": [
    "#### __Indexing and Slicing__"
   ]
  },
  {
   "cell_type": "code",
   "execution_count": null,
   "metadata": {},
   "outputs": [],
   "source": []
  },
  {
   "cell_type": "markdown",
   "metadata": {},
   "source": [
    "#### __Array Attributes (ndim, shape, size, dtype)__"
   ]
  },
  {
   "cell_type": "code",
   "execution_count": null,
   "metadata": {},
   "outputs": [],
   "source": []
  },
  {
   "cell_type": "markdown",
   "metadata": {},
   "source": [
    "#### __Adding Removing and Sorting Elements (np.sort(), np.concatenate())__"
   ]
  },
  {
   "cell_type": "code",
   "execution_count": null,
   "metadata": {},
   "outputs": [],
   "source": []
  },
  {
   "cell_type": "markdown",
   "metadata": {},
   "source": [
    "#### __Reshaping an Array (reshape)__"
   ]
  },
  {
   "cell_type": "code",
   "execution_count": null,
   "metadata": {},
   "outputs": [],
   "source": []
  },
  {
   "cell_type": "markdown",
   "metadata": {},
   "source": [
    "#### __Create Array From Existing Data (copy())__"
   ]
  },
  {
   "cell_type": "code",
   "execution_count": null,
   "metadata": {},
   "outputs": [],
   "source": []
  },
  {
   "cell_type": "markdown",
   "metadata": {},
   "source": [
    "#### __Basic Array Operation (adding by rows and columns ,min(),max(),sum())__"
   ]
  },
  {
   "cell_type": "code",
   "execution_count": null,
   "metadata": {},
   "outputs": [],
   "source": []
  }
 ],
 "metadata": {
  "kernelspec": {
   "display_name": "Python 3",
   "language": "python",
   "name": "python3"
  },
  "language_info": {
   "codemirror_mode": {
    "name": "ipython",
    "version": 3
   },
   "file_extension": ".py",
   "mimetype": "text/x-python",
   "name": "python",
   "nbconvert_exporter": "python",
   "pygments_lexer": "ipython3",
   "version": "3.12.2"
  }
 },
 "nbformat": 4,
 "nbformat_minor": 2
}
