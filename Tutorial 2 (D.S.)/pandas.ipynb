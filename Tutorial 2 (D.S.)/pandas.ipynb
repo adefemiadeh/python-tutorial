{
 "cells": [
  {
   "cell_type": "markdown",
   "metadata": {
    "vscode": {
     "languageId": "plaintext"
    }
   },
   "source": [
    "# __Pandas__"
   ]
  },
  {
   "cell_type": "markdown",
   "metadata": {},
   "source": [
    "Pandas is a powerful Python libary for data manipulation and analysis. It provides data structures like Series and DataFrame to handle structured data effectively. Its versatility and ease of use make it a cornerstone in data science and analytics."
   ]
  },
  {
   "cell_type": "markdown",
   "metadata": {},
   "source": [
    "### __Key Features of Pandas__"
   ]
  },
  {
   "cell_type": "markdown",
   "metadata": {},
   "source": [
    "1. __Data Structures__:\n",
    "    - __Series__: One-dimensional labeled array\n",
    "    - __DataFrame__: Two-dimensional labeled data structure with rows and columns\n",
    "\n",
    "2. __Data Manipulation__:\n",
    "    - Handling missing data (Nan Values).\n",
    "    - Filtering, slicing, and indexing data.\n",
    "    - Merging, joining, and concatenating datasets.\n",
    "\n",
    "3. __Data Analysis__:\n",
    "    - Aggregations, group operations, and pivot tables.\n",
    "    - Time-series analysis and handling datetime objects.\n",
    "\n",
    "4. __File Input/Output__:\n",
    "    - Reads and writes various file formats:CSV, Excel, SQL, JSON etc.\n",
    "\n",
    "5. __Integration__:\n",
    "    - Works seamlessly with Numpy, Matplotlib and other data science libraries."
   ]
  },
  {
   "cell_type": "markdown",
   "metadata": {},
   "source": [
    "## __Hands-on Learning__"
   ]
  },
  {
   "cell_type": "code",
   "execution_count": null,
   "metadata": {
    "vscode": {
     "languageId": "plaintext"
    }
   },
   "outputs": [],
   "source": []
  }
 ],
 "metadata": {
  "language_info": {
   "name": "python"
  }
 },
 "nbformat": 4,
 "nbformat_minor": 2
}
